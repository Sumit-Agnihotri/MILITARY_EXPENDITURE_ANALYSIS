{
 "cells": [
  {
   "cell_type": "markdown",
   "metadata": {},
   "source": [
    "# IMPORTING LIBRARIES FIRST IS IMPORTANT"
   ]
  },
  {
   "cell_type": "code",
   "execution_count": 2,
   "metadata": {},
   "outputs": [],
   "source": [
    "import numpy as np\n",
    "import pandas as pd\n",
    "import matplotlib.pyplot as plt\n",
    "import seaborn as sns"
   ]
  },
  {
   "cell_type": "markdown",
   "metadata": {},
   "source": [
    "# UPLOADING THE CSV FILE"
   ]
  },
  {
   "cell_type": "code",
   "execution_count": 3,
   "metadata": {},
   "outputs": [
    {
     "data": {
      "application/vnd.microsoft.datawrangler.viewer.v0+json": {
       "columns": [
        {
         "name": "index",
         "rawType": "int64",
         "type": "integer"
        },
        {
         "name": "country",
         "rawType": "object",
         "type": "string"
        },
        {
         "name": "iso3c",
         "rawType": "object",
         "type": "unknown"
        },
        {
         "name": "iso2c",
         "rawType": "object",
         "type": "unknown"
        },
        {
         "name": "year",
         "rawType": "int64",
         "type": "integer"
        },
        {
         "name": "Military expenditure (current USD)",
         "rawType": "float64",
         "type": "float"
        },
        {
         "name": "Military expenditure (% of general government expenditure)",
         "rawType": "float64",
         "type": "float"
        },
        {
         "name": "Military expenditure (% of GDP)",
         "rawType": "float64",
         "type": "float"
        },
        {
         "name": "adminregion",
         "rawType": "object",
         "type": "unknown"
        },
        {
         "name": "incomeLevel",
         "rawType": "object",
         "type": "unknown"
        }
       ],
       "conversionMethod": "pd.DataFrame",
       "ref": "575f6a69-d7f0-43a6-b515-124a2d530d02",
       "rows": [
        [
         "0",
         "Afghanistan",
         "AFG",
         "AF",
         "1970",
         "2939585.50125376",
         null,
         "1.62960609911055",
         "South Asia",
         "Low income"
        ],
        [
         "1",
         "Afghanistan",
         "AFG",
         "AF",
         "1971",
         null,
         null,
         null,
         "South Asia",
         "Low income"
        ],
        [
         "2",
         "Afghanistan",
         "AFG",
         "AF",
         "1972",
         null,
         null,
         null,
         "South Asia",
         "Low income"
        ],
        [
         "3",
         "Afghanistan",
         "AFG",
         "AF",
         "1973",
         "3341271.55123016",
         null,
         "1.86891025641026",
         "South Asia",
         "Low income"
        ],
        [
         "4",
         "Afghanistan",
         "AFG",
         "AF",
         "1974",
         "3581366.35143003",
         null,
         "1.61082474226804",
         "South Asia",
         "Low income"
        ],
        [
         "5",
         "Afghanistan",
         "AFG",
         "AF",
         "1975",
         "4203664.56865451",
         null,
         "1.72206572769953",
         "South Asia",
         "Low income"
        ],
        [
         "6",
         "Afghanistan",
         "AFG",
         "AF",
         "1976",
         "5393251.2159455",
         null,
         "2.04608695652174",
         "South Asia",
         "Low income"
        ],
        [
         "7",
         "Afghanistan",
         "AFG",
         "AF",
         "1977",
         "6127288.0633346",
         null,
         "2.0114747930775",
         "South Asia",
         "Low income"
        ],
        [
         "8",
         "Afghanistan",
         "AFG",
         "AF",
         "1978",
         null,
         null,
         null,
         "South Asia",
         "Low income"
        ],
        [
         "9",
         "Afghanistan",
         "AFG",
         "AF",
         "1979",
         null,
         null,
         null,
         "South Asia",
         "Low income"
        ],
        [
         "10",
         "Afghanistan",
         "AFG",
         "AF",
         "1980",
         null,
         null,
         null,
         "South Asia",
         "Low income"
        ],
        [
         "11",
         "Afghanistan",
         "AFG",
         "AF",
         "1981",
         null,
         null,
         null,
         "South Asia",
         "Low income"
        ],
        [
         "12",
         "Afghanistan",
         "AFG",
         "AF",
         "1982",
         null,
         null,
         null,
         "South Asia",
         "Low income"
        ],
        [
         "13",
         "Afghanistan",
         "AFG",
         "AF",
         "1983",
         null,
         null,
         null,
         "South Asia",
         "Low income"
        ],
        [
         "14",
         "Afghanistan",
         "AFG",
         "AF",
         "1984",
         null,
         null,
         null,
         "South Asia",
         "Low income"
        ],
        [
         "15",
         "Afghanistan",
         "AFG",
         "AF",
         "1985",
         null,
         null,
         null,
         "South Asia",
         "Low income"
        ],
        [
         "16",
         "Afghanistan",
         "AFG",
         "AF",
         "1986",
         null,
         null,
         null,
         "South Asia",
         "Low income"
        ],
        [
         "17",
         "Afghanistan",
         "AFG",
         "AF",
         "1987",
         null,
         null,
         null,
         "South Asia",
         "Low income"
        ],
        [
         "18",
         "Afghanistan",
         "AFG",
         "AF",
         "1988",
         null,
         null,
         null,
         "South Asia",
         "Low income"
        ],
        [
         "19",
         "Afghanistan",
         "AFG",
         "AF",
         "1989",
         null,
         null,
         null,
         "South Asia",
         "Low income"
        ],
        [
         "20",
         "Afghanistan",
         "AFG",
         "AF",
         "1990",
         null,
         null,
         null,
         "South Asia",
         "Low income"
        ],
        [
         "21",
         "Afghanistan",
         "AFG",
         "AF",
         "1991",
         null,
         null,
         null,
         "South Asia",
         "Low income"
        ],
        [
         "22",
         "Afghanistan",
         "AFG",
         "AF",
         "1992",
         null,
         null,
         null,
         "South Asia",
         "Low income"
        ],
        [
         "23",
         "Afghanistan",
         "AFG",
         "AF",
         "1993",
         null,
         null,
         null,
         "South Asia",
         "Low income"
        ],
        [
         "24",
         "Afghanistan",
         "AFG",
         "AF",
         "1994",
         null,
         null,
         null,
         "South Asia",
         "Low income"
        ],
        [
         "25",
         "Afghanistan",
         "AFG",
         "AF",
         "1995",
         null,
         null,
         null,
         "South Asia",
         "Low income"
        ],
        [
         "26",
         "Afghanistan",
         "AFG",
         "AF",
         "1996",
         null,
         null,
         null,
         "South Asia",
         "Low income"
        ],
        [
         "27",
         "Afghanistan",
         "AFG",
         "AF",
         "1997",
         null,
         null,
         null,
         "South Asia",
         "Low income"
        ],
        [
         "28",
         "Afghanistan",
         "AFG",
         "AF",
         "1998",
         null,
         null,
         null,
         "South Asia",
         "Low income"
        ],
        [
         "29",
         "Afghanistan",
         "AFG",
         "AF",
         "1999",
         null,
         null,
         null,
         "South Asia",
         "Low income"
        ],
        [
         "30",
         "Afghanistan",
         "AFG",
         "AF",
         "2000",
         null,
         null,
         null,
         "South Asia",
         "Low income"
        ],
        [
         "31",
         "Afghanistan",
         "AFG",
         "AF",
         "2001",
         null,
         null,
         null,
         "South Asia",
         "Low income"
        ],
        [
         "32",
         "Afghanistan",
         "AFG",
         "AF",
         "2002",
         null,
         null,
         null,
         "South Asia",
         "Low income"
        ],
        [
         "33",
         "Afghanistan",
         "AFG",
         "AF",
         "2003",
         null,
         null,
         null,
         "South Asia",
         "Low income"
        ],
        [
         "34",
         "Afghanistan",
         "AFG",
         "AF",
         "2004",
         "125111557.457054",
         "16.134336001725",
         "2.43125786929857",
         "South Asia",
         "Low income"
        ],
        [
         "35",
         "Afghanistan",
         "AFG",
         "AF",
         "2005",
         "122727193.134874",
         "12.6897579454611",
         "1.99206569856085",
         "South Asia",
         "Low income"
        ],
        [
         "36",
         "Afghanistan",
         "AFG",
         "AF",
         "2006",
         "131346231.269517",
         "10.3603817107467",
         "1.89623399634252",
         "South Asia",
         "Low income"
        ],
        [
         "37",
         "Afghanistan",
         "AFG",
         "AF",
         "2007",
         "219580214.296198",
         "11.9484046164291",
         "2.56626735198569",
         "South Asia",
         "Low income"
        ],
        [
         "38",
         "Afghanistan",
         "AFG",
         "AF",
         "2008",
         "240532594.620985",
         "11.1654087876017",
         "2.335545701939",
         "South Asia",
         "Low income"
        ],
        [
         "39",
         "Afghanistan",
         "AFG",
         "AF",
         "2009",
         "251869514.820335",
         "9.86038937465642",
         "2.08741255278385",
         "South Asia",
         "Low income"
        ],
        [
         "40",
         "Afghanistan",
         "AFG",
         "AF",
         "2010",
         "298146852.519599",
         "9.35459613289025",
         "1.94583569418812",
         "South Asia",
         "Low income"
        ],
        [
         "41",
         "Afghanistan",
         "AFG",
         "AF",
         "2011",
         "325807003.657989",
         "8.30276004557373",
         "1.82134545354632",
         "South Asia",
         "Low income"
        ],
        [
         "42",
         "Afghanistan",
         "AFG",
         "AF",
         "2012",
         "238583385.374322",
         "4.696372864714",
         "1.17541612009987",
         "South Asia",
         "Low income"
        ],
        [
         "43",
         "Afghanistan",
         "AFG",
         "AF",
         "2013",
         "217194107.113298",
         "4.31176435442433",
         "1.07694976762403",
         "South Asia",
         "Low income"
        ],
        [
         "44",
         "Afghanistan",
         "AFG",
         "AF",
         "2014",
         "268227074.235808",
         "5.10979266008033",
         "1.29801287790022",
         "South Asia",
         "Low income"
        ],
        [
         "45",
         "Afghanistan",
         "AFG",
         "AF",
         "2015",
         "199518614.831897",
         "3.83314218682084",
         "0.994575822723645",
         "South Asia",
         "Low income"
        ],
        [
         "46",
         "Afghanistan",
         "AFG",
         "AF",
         "2016",
         "185878310.062383",
         "3.6802510519657",
         "0.956772140958855",
         "South Asia",
         "Low income"
        ],
        [
         "47",
         "Afghanistan",
         "AFG",
         "AF",
         "2017",
         "191407113.244397",
         "3.65259208973618",
         "0.945226799939516",
         "South Asia",
         "Low income"
        ],
        [
         "48",
         "Afghanistan",
         "AFG",
         "AF",
         "2018",
         "198074728.574408",
         "3.72485527466578",
         "1.00674629248273",
         "South Asia",
         "Low income"
        ],
        [
         "49",
         "Afghanistan",
         "AFG",
         "AF",
         "2019",
         "225835643.869378",
         "4.27573619654266",
         "1.11823060279695",
         "South Asia",
         "Low income"
        ]
       ],
       "shape": {
        "columns": 9,
        "rows": 13566
       }
      },
      "text/html": [
       "<div>\n",
       "<style scoped>\n",
       "    .dataframe tbody tr th:only-of-type {\n",
       "        vertical-align: middle;\n",
       "    }\n",
       "\n",
       "    .dataframe tbody tr th {\n",
       "        vertical-align: top;\n",
       "    }\n",
       "\n",
       "    .dataframe thead th {\n",
       "        text-align: right;\n",
       "    }\n",
       "</style>\n",
       "<table border=\"1\" class=\"dataframe\">\n",
       "  <thead>\n",
       "    <tr style=\"text-align: right;\">\n",
       "      <th></th>\n",
       "      <th>country</th>\n",
       "      <th>iso3c</th>\n",
       "      <th>iso2c</th>\n",
       "      <th>year</th>\n",
       "      <th>Military expenditure (current USD)</th>\n",
       "      <th>Military expenditure (% of general government expenditure)</th>\n",
       "      <th>Military expenditure (% of GDP)</th>\n",
       "      <th>adminregion</th>\n",
       "      <th>incomeLevel</th>\n",
       "    </tr>\n",
       "  </thead>\n",
       "  <tbody>\n",
       "    <tr>\n",
       "      <th>0</th>\n",
       "      <td>Afghanistan</td>\n",
       "      <td>AFG</td>\n",
       "      <td>AF</td>\n",
       "      <td>1970</td>\n",
       "      <td>2.939586e+06</td>\n",
       "      <td>NaN</td>\n",
       "      <td>1.629606</td>\n",
       "      <td>South Asia</td>\n",
       "      <td>Low income</td>\n",
       "    </tr>\n",
       "    <tr>\n",
       "      <th>1</th>\n",
       "      <td>Afghanistan</td>\n",
       "      <td>AFG</td>\n",
       "      <td>AF</td>\n",
       "      <td>1971</td>\n",
       "      <td>NaN</td>\n",
       "      <td>NaN</td>\n",
       "      <td>NaN</td>\n",
       "      <td>South Asia</td>\n",
       "      <td>Low income</td>\n",
       "    </tr>\n",
       "    <tr>\n",
       "      <th>2</th>\n",
       "      <td>Afghanistan</td>\n",
       "      <td>AFG</td>\n",
       "      <td>AF</td>\n",
       "      <td>1972</td>\n",
       "      <td>NaN</td>\n",
       "      <td>NaN</td>\n",
       "      <td>NaN</td>\n",
       "      <td>South Asia</td>\n",
       "      <td>Low income</td>\n",
       "    </tr>\n",
       "    <tr>\n",
       "      <th>3</th>\n",
       "      <td>Afghanistan</td>\n",
       "      <td>AFG</td>\n",
       "      <td>AF</td>\n",
       "      <td>1973</td>\n",
       "      <td>3.341272e+06</td>\n",
       "      <td>NaN</td>\n",
       "      <td>1.868910</td>\n",
       "      <td>South Asia</td>\n",
       "      <td>Low income</td>\n",
       "    </tr>\n",
       "    <tr>\n",
       "      <th>4</th>\n",
       "      <td>Afghanistan</td>\n",
       "      <td>AFG</td>\n",
       "      <td>AF</td>\n",
       "      <td>1974</td>\n",
       "      <td>3.581366e+06</td>\n",
       "      <td>NaN</td>\n",
       "      <td>1.610825</td>\n",
       "      <td>South Asia</td>\n",
       "      <td>Low income</td>\n",
       "    </tr>\n",
       "    <tr>\n",
       "      <th>...</th>\n",
       "      <td>...</td>\n",
       "      <td>...</td>\n",
       "      <td>...</td>\n",
       "      <td>...</td>\n",
       "      <td>...</td>\n",
       "      <td>...</td>\n",
       "      <td>...</td>\n",
       "      <td>...</td>\n",
       "      <td>...</td>\n",
       "    </tr>\n",
       "    <tr>\n",
       "      <th>13561</th>\n",
       "      <td>Zimbabwe</td>\n",
       "      <td>ZWE</td>\n",
       "      <td>ZW</td>\n",
       "      <td>2016</td>\n",
       "      <td>3.580650e+08</td>\n",
       "      <td>7.363048</td>\n",
       "      <td>1.742494</td>\n",
       "      <td>Sub-Saharan Africa (excluding high income)</td>\n",
       "      <td>Lower middle income</td>\n",
       "    </tr>\n",
       "    <tr>\n",
       "      <th>13562</th>\n",
       "      <td>Zimbabwe</td>\n",
       "      <td>ZWE</td>\n",
       "      <td>ZW</td>\n",
       "      <td>2017</td>\n",
       "      <td>3.405220e+08</td>\n",
       "      <td>5.519890</td>\n",
       "      <td>1.544948</td>\n",
       "      <td>Sub-Saharan Africa (excluding high income)</td>\n",
       "      <td>Lower middle income</td>\n",
       "    </tr>\n",
       "    <tr>\n",
       "      <th>13563</th>\n",
       "      <td>Zimbabwe</td>\n",
       "      <td>ZWE</td>\n",
       "      <td>ZW</td>\n",
       "      <td>2018</td>\n",
       "      <td>4.203640e+08</td>\n",
       "      <td>5.607096</td>\n",
       "      <td>1.222795</td>\n",
       "      <td>Sub-Saharan Africa (excluding high income)</td>\n",
       "      <td>Lower middle income</td>\n",
       "    </tr>\n",
       "    <tr>\n",
       "      <th>13564</th>\n",
       "      <td>Zimbabwe</td>\n",
       "      <td>ZWE</td>\n",
       "      <td>ZW</td>\n",
       "      <td>2019</td>\n",
       "      <td>5.469390e+08</td>\n",
       "      <td>2.099816</td>\n",
       "      <td>0.698601</td>\n",
       "      <td>Sub-Saharan Africa (excluding high income)</td>\n",
       "      <td>Lower middle income</td>\n",
       "    </tr>\n",
       "    <tr>\n",
       "      <th>13565</th>\n",
       "      <td>Zimbabwe</td>\n",
       "      <td>ZWE</td>\n",
       "      <td>ZW</td>\n",
       "      <td>2020</td>\n",
       "      <td>NaN</td>\n",
       "      <td>NaN</td>\n",
       "      <td>NaN</td>\n",
       "      <td>Sub-Saharan Africa (excluding high income)</td>\n",
       "      <td>Lower middle income</td>\n",
       "    </tr>\n",
       "  </tbody>\n",
       "</table>\n",
       "<p>13566 rows × 9 columns</p>\n",
       "</div>"
      ],
      "text/plain": [
       "           country iso3c iso2c  year  Military expenditure (current USD)  \\\n",
       "0      Afghanistan   AFG    AF  1970                        2.939586e+06   \n",
       "1      Afghanistan   AFG    AF  1971                                 NaN   \n",
       "2      Afghanistan   AFG    AF  1972                                 NaN   \n",
       "3      Afghanistan   AFG    AF  1973                        3.341272e+06   \n",
       "4      Afghanistan   AFG    AF  1974                        3.581366e+06   \n",
       "...            ...   ...   ...   ...                                 ...   \n",
       "13561     Zimbabwe   ZWE    ZW  2016                        3.580650e+08   \n",
       "13562     Zimbabwe   ZWE    ZW  2017                        3.405220e+08   \n",
       "13563     Zimbabwe   ZWE    ZW  2018                        4.203640e+08   \n",
       "13564     Zimbabwe   ZWE    ZW  2019                        5.469390e+08   \n",
       "13565     Zimbabwe   ZWE    ZW  2020                                 NaN   \n",
       "\n",
       "       Military expenditure (% of general government expenditure)  \\\n",
       "0                                                    NaN            \n",
       "1                                                    NaN            \n",
       "2                                                    NaN            \n",
       "3                                                    NaN            \n",
       "4                                                    NaN            \n",
       "...                                                  ...            \n",
       "13561                                           7.363048            \n",
       "13562                                           5.519890            \n",
       "13563                                           5.607096            \n",
       "13564                                           2.099816            \n",
       "13565                                                NaN            \n",
       "\n",
       "       Military expenditure (% of GDP)  \\\n",
       "0                             1.629606   \n",
       "1                                  NaN   \n",
       "2                                  NaN   \n",
       "3                             1.868910   \n",
       "4                             1.610825   \n",
       "...                                ...   \n",
       "13561                         1.742494   \n",
       "13562                         1.544948   \n",
       "13563                         1.222795   \n",
       "13564                         0.698601   \n",
       "13565                              NaN   \n",
       "\n",
       "                                      adminregion          incomeLevel  \n",
       "0                                      South Asia           Low income  \n",
       "1                                      South Asia           Low income  \n",
       "2                                      South Asia           Low income  \n",
       "3                                      South Asia           Low income  \n",
       "4                                      South Asia           Low income  \n",
       "...                                           ...                  ...  \n",
       "13561  Sub-Saharan Africa (excluding high income)  Lower middle income  \n",
       "13562  Sub-Saharan Africa (excluding high income)  Lower middle income  \n",
       "13563  Sub-Saharan Africa (excluding high income)  Lower middle income  \n",
       "13564  Sub-Saharan Africa (excluding high income)  Lower middle income  \n",
       "13565  Sub-Saharan Africa (excluding high income)  Lower middle income  \n",
       "\n",
       "[13566 rows x 9 columns]"
      ]
     },
     "execution_count": 3,
     "metadata": {},
     "output_type": "execute_result"
    }
   ],
   "source": [
    "dataset = pd.read_csv(r\"D:\\MILITARY_EXPENDITURE_ANALYSIS\\military expenditure.csv\") # This command is used to read the dataset.\n",
    "dataset"
   ]
  },
  {
   "cell_type": "code",
   "execution_count": 4,
   "metadata": {},
   "outputs": [
    {
     "data": {
      "application/vnd.microsoft.datawrangler.viewer.v0+json": {
       "columns": [
        {
         "name": "index",
         "rawType": "int64",
         "type": "integer"
        },
        {
         "name": "country",
         "rawType": "object",
         "type": "string"
        },
        {
         "name": "iso3c",
         "rawType": "object",
         "type": "string"
        },
        {
         "name": "iso2c",
         "rawType": "object",
         "type": "string"
        },
        {
         "name": "year",
         "rawType": "int64",
         "type": "integer"
        },
        {
         "name": "Military expenditure (current USD)",
         "rawType": "float64",
         "type": "float"
        },
        {
         "name": "Military expenditure (% of general government expenditure)",
         "rawType": "float64",
         "type": "float"
        },
        {
         "name": "Military expenditure (% of GDP)",
         "rawType": "float64",
         "type": "float"
        },
        {
         "name": "adminregion",
         "rawType": "object",
         "type": "string"
        },
        {
         "name": "incomeLevel",
         "rawType": "object",
         "type": "string"
        }
       ],
       "conversionMethod": "pd.DataFrame",
       "ref": "3adb888b-f284-4029-8534-0d029467c25b",
       "rows": [
        [
         "0",
         "Afghanistan",
         "AFG",
         "AF",
         "1970",
         "2939585.50125376",
         null,
         "1.62960609911055",
         "South Asia",
         "Low income"
        ],
        [
         "1",
         "Afghanistan",
         "AFG",
         "AF",
         "1971",
         null,
         null,
         null,
         "South Asia",
         "Low income"
        ],
        [
         "2",
         "Afghanistan",
         "AFG",
         "AF",
         "1972",
         null,
         null,
         null,
         "South Asia",
         "Low income"
        ],
        [
         "3",
         "Afghanistan",
         "AFG",
         "AF",
         "1973",
         "3341271.55123016",
         null,
         "1.86891025641026",
         "South Asia",
         "Low income"
        ],
        [
         "4",
         "Afghanistan",
         "AFG",
         "AF",
         "1974",
         "3581366.35143003",
         null,
         "1.61082474226804",
         "South Asia",
         "Low income"
        ]
       ],
       "shape": {
        "columns": 9,
        "rows": 5
       }
      },
      "text/html": [
       "<div>\n",
       "<style scoped>\n",
       "    .dataframe tbody tr th:only-of-type {\n",
       "        vertical-align: middle;\n",
       "    }\n",
       "\n",
       "    .dataframe tbody tr th {\n",
       "        vertical-align: top;\n",
       "    }\n",
       "\n",
       "    .dataframe thead th {\n",
       "        text-align: right;\n",
       "    }\n",
       "</style>\n",
       "<table border=\"1\" class=\"dataframe\">\n",
       "  <thead>\n",
       "    <tr style=\"text-align: right;\">\n",
       "      <th></th>\n",
       "      <th>country</th>\n",
       "      <th>iso3c</th>\n",
       "      <th>iso2c</th>\n",
       "      <th>year</th>\n",
       "      <th>Military expenditure (current USD)</th>\n",
       "      <th>Military expenditure (% of general government expenditure)</th>\n",
       "      <th>Military expenditure (% of GDP)</th>\n",
       "      <th>adminregion</th>\n",
       "      <th>incomeLevel</th>\n",
       "    </tr>\n",
       "  </thead>\n",
       "  <tbody>\n",
       "    <tr>\n",
       "      <th>0</th>\n",
       "      <td>Afghanistan</td>\n",
       "      <td>AFG</td>\n",
       "      <td>AF</td>\n",
       "      <td>1970</td>\n",
       "      <td>2.939586e+06</td>\n",
       "      <td>NaN</td>\n",
       "      <td>1.629606</td>\n",
       "      <td>South Asia</td>\n",
       "      <td>Low income</td>\n",
       "    </tr>\n",
       "    <tr>\n",
       "      <th>1</th>\n",
       "      <td>Afghanistan</td>\n",
       "      <td>AFG</td>\n",
       "      <td>AF</td>\n",
       "      <td>1971</td>\n",
       "      <td>NaN</td>\n",
       "      <td>NaN</td>\n",
       "      <td>NaN</td>\n",
       "      <td>South Asia</td>\n",
       "      <td>Low income</td>\n",
       "    </tr>\n",
       "    <tr>\n",
       "      <th>2</th>\n",
       "      <td>Afghanistan</td>\n",
       "      <td>AFG</td>\n",
       "      <td>AF</td>\n",
       "      <td>1972</td>\n",
       "      <td>NaN</td>\n",
       "      <td>NaN</td>\n",
       "      <td>NaN</td>\n",
       "      <td>South Asia</td>\n",
       "      <td>Low income</td>\n",
       "    </tr>\n",
       "    <tr>\n",
       "      <th>3</th>\n",
       "      <td>Afghanistan</td>\n",
       "      <td>AFG</td>\n",
       "      <td>AF</td>\n",
       "      <td>1973</td>\n",
       "      <td>3.341272e+06</td>\n",
       "      <td>NaN</td>\n",
       "      <td>1.868910</td>\n",
       "      <td>South Asia</td>\n",
       "      <td>Low income</td>\n",
       "    </tr>\n",
       "    <tr>\n",
       "      <th>4</th>\n",
       "      <td>Afghanistan</td>\n",
       "      <td>AFG</td>\n",
       "      <td>AF</td>\n",
       "      <td>1974</td>\n",
       "      <td>3.581366e+06</td>\n",
       "      <td>NaN</td>\n",
       "      <td>1.610825</td>\n",
       "      <td>South Asia</td>\n",
       "      <td>Low income</td>\n",
       "    </tr>\n",
       "  </tbody>\n",
       "</table>\n",
       "</div>"
      ],
      "text/plain": [
       "       country iso3c iso2c  year  Military expenditure (current USD)  \\\n",
       "0  Afghanistan   AFG    AF  1970                        2.939586e+06   \n",
       "1  Afghanistan   AFG    AF  1971                                 NaN   \n",
       "2  Afghanistan   AFG    AF  1972                                 NaN   \n",
       "3  Afghanistan   AFG    AF  1973                        3.341272e+06   \n",
       "4  Afghanistan   AFG    AF  1974                        3.581366e+06   \n",
       "\n",
       "   Military expenditure (% of general government expenditure)  \\\n",
       "0                                                NaN            \n",
       "1                                                NaN            \n",
       "2                                                NaN            \n",
       "3                                                NaN            \n",
       "4                                                NaN            \n",
       "\n",
       "   Military expenditure (% of GDP) adminregion incomeLevel  \n",
       "0                         1.629606  South Asia  Low income  \n",
       "1                              NaN  South Asia  Low income  \n",
       "2                              NaN  South Asia  Low income  \n",
       "3                         1.868910  South Asia  Low income  \n",
       "4                         1.610825  South Asia  Low income  "
      ]
     },
     "execution_count": 4,
     "metadata": {},
     "output_type": "execute_result"
    }
   ],
   "source": [
    "dataset.head() # This command is used to display the first 5 rows of the dataset."
   ]
  },
  {
   "cell_type": "code",
   "execution_count": 5,
   "metadata": {},
   "outputs": [
    {
     "data": {
      "application/vnd.microsoft.datawrangler.viewer.v0+json": {
       "columns": [
        {
         "name": "index",
         "rawType": "int64",
         "type": "integer"
        },
        {
         "name": "country",
         "rawType": "object",
         "type": "string"
        },
        {
         "name": "iso3c",
         "rawType": "object",
         "type": "string"
        },
        {
         "name": "iso2c",
         "rawType": "object",
         "type": "string"
        },
        {
         "name": "year",
         "rawType": "int64",
         "type": "integer"
        },
        {
         "name": "Military expenditure (current USD)",
         "rawType": "float64",
         "type": "float"
        },
        {
         "name": "Military expenditure (% of general government expenditure)",
         "rawType": "float64",
         "type": "float"
        },
        {
         "name": "Military expenditure (% of GDP)",
         "rawType": "float64",
         "type": "float"
        },
        {
         "name": "adminregion",
         "rawType": "object",
         "type": "string"
        },
        {
         "name": "incomeLevel",
         "rawType": "object",
         "type": "string"
        }
       ],
       "conversionMethod": "pd.DataFrame",
       "ref": "42e8e3d1-162c-47a9-a032-48ac82b8926f",
       "rows": [
        [
         "13561",
         "Zimbabwe",
         "ZWE",
         "ZW",
         "2016",
         "358065000.0",
         "7.36304750154226",
         "1.74249355199766",
         "Sub-Saharan Africa (excluding high income)",
         "Lower middle income"
        ],
        [
         "13562",
         "Zimbabwe",
         "ZWE",
         "ZW",
         "2017",
         "340522000.0",
         "5.51988977143783",
         "1.54494805135883",
         "Sub-Saharan Africa (excluding high income)",
         "Lower middle income"
        ],
        [
         "13563",
         "Zimbabwe",
         "ZWE",
         "ZW",
         "2018",
         "420364000.0",
         "5.60709617180205",
         "1.22279496677105",
         "Sub-Saharan Africa (excluding high income)",
         "Lower middle income"
        ],
        [
         "13564",
         "Zimbabwe",
         "ZWE",
         "ZW",
         "2019",
         "546939000.0",
         "2.09981571774101",
         "0.698600973197018",
         "Sub-Saharan Africa (excluding high income)",
         "Lower middle income"
        ],
        [
         "13565",
         "Zimbabwe",
         "ZWE",
         "ZW",
         "2020",
         null,
         null,
         null,
         "Sub-Saharan Africa (excluding high income)",
         "Lower middle income"
        ]
       ],
       "shape": {
        "columns": 9,
        "rows": 5
       }
      },
      "text/html": [
       "<div>\n",
       "<style scoped>\n",
       "    .dataframe tbody tr th:only-of-type {\n",
       "        vertical-align: middle;\n",
       "    }\n",
       "\n",
       "    .dataframe tbody tr th {\n",
       "        vertical-align: top;\n",
       "    }\n",
       "\n",
       "    .dataframe thead th {\n",
       "        text-align: right;\n",
       "    }\n",
       "</style>\n",
       "<table border=\"1\" class=\"dataframe\">\n",
       "  <thead>\n",
       "    <tr style=\"text-align: right;\">\n",
       "      <th></th>\n",
       "      <th>country</th>\n",
       "      <th>iso3c</th>\n",
       "      <th>iso2c</th>\n",
       "      <th>year</th>\n",
       "      <th>Military expenditure (current USD)</th>\n",
       "      <th>Military expenditure (% of general government expenditure)</th>\n",
       "      <th>Military expenditure (% of GDP)</th>\n",
       "      <th>adminregion</th>\n",
       "      <th>incomeLevel</th>\n",
       "    </tr>\n",
       "  </thead>\n",
       "  <tbody>\n",
       "    <tr>\n",
       "      <th>13561</th>\n",
       "      <td>Zimbabwe</td>\n",
       "      <td>ZWE</td>\n",
       "      <td>ZW</td>\n",
       "      <td>2016</td>\n",
       "      <td>358065000.0</td>\n",
       "      <td>7.363048</td>\n",
       "      <td>1.742494</td>\n",
       "      <td>Sub-Saharan Africa (excluding high income)</td>\n",
       "      <td>Lower middle income</td>\n",
       "    </tr>\n",
       "    <tr>\n",
       "      <th>13562</th>\n",
       "      <td>Zimbabwe</td>\n",
       "      <td>ZWE</td>\n",
       "      <td>ZW</td>\n",
       "      <td>2017</td>\n",
       "      <td>340522000.0</td>\n",
       "      <td>5.519890</td>\n",
       "      <td>1.544948</td>\n",
       "      <td>Sub-Saharan Africa (excluding high income)</td>\n",
       "      <td>Lower middle income</td>\n",
       "    </tr>\n",
       "    <tr>\n",
       "      <th>13563</th>\n",
       "      <td>Zimbabwe</td>\n",
       "      <td>ZWE</td>\n",
       "      <td>ZW</td>\n",
       "      <td>2018</td>\n",
       "      <td>420364000.0</td>\n",
       "      <td>5.607096</td>\n",
       "      <td>1.222795</td>\n",
       "      <td>Sub-Saharan Africa (excluding high income)</td>\n",
       "      <td>Lower middle income</td>\n",
       "    </tr>\n",
       "    <tr>\n",
       "      <th>13564</th>\n",
       "      <td>Zimbabwe</td>\n",
       "      <td>ZWE</td>\n",
       "      <td>ZW</td>\n",
       "      <td>2019</td>\n",
       "      <td>546939000.0</td>\n",
       "      <td>2.099816</td>\n",
       "      <td>0.698601</td>\n",
       "      <td>Sub-Saharan Africa (excluding high income)</td>\n",
       "      <td>Lower middle income</td>\n",
       "    </tr>\n",
       "    <tr>\n",
       "      <th>13565</th>\n",
       "      <td>Zimbabwe</td>\n",
       "      <td>ZWE</td>\n",
       "      <td>ZW</td>\n",
       "      <td>2020</td>\n",
       "      <td>NaN</td>\n",
       "      <td>NaN</td>\n",
       "      <td>NaN</td>\n",
       "      <td>Sub-Saharan Africa (excluding high income)</td>\n",
       "      <td>Lower middle income</td>\n",
       "    </tr>\n",
       "  </tbody>\n",
       "</table>\n",
       "</div>"
      ],
      "text/plain": [
       "        country iso3c iso2c  year  Military expenditure (current USD)  \\\n",
       "13561  Zimbabwe   ZWE    ZW  2016                         358065000.0   \n",
       "13562  Zimbabwe   ZWE    ZW  2017                         340522000.0   \n",
       "13563  Zimbabwe   ZWE    ZW  2018                         420364000.0   \n",
       "13564  Zimbabwe   ZWE    ZW  2019                         546939000.0   \n",
       "13565  Zimbabwe   ZWE    ZW  2020                                 NaN   \n",
       "\n",
       "       Military expenditure (% of general government expenditure)  \\\n",
       "13561                                           7.363048            \n",
       "13562                                           5.519890            \n",
       "13563                                           5.607096            \n",
       "13564                                           2.099816            \n",
       "13565                                                NaN            \n",
       "\n",
       "       Military expenditure (% of GDP)  \\\n",
       "13561                         1.742494   \n",
       "13562                         1.544948   \n",
       "13563                         1.222795   \n",
       "13564                         0.698601   \n",
       "13565                              NaN   \n",
       "\n",
       "                                      adminregion          incomeLevel  \n",
       "13561  Sub-Saharan Africa (excluding high income)  Lower middle income  \n",
       "13562  Sub-Saharan Africa (excluding high income)  Lower middle income  \n",
       "13563  Sub-Saharan Africa (excluding high income)  Lower middle income  \n",
       "13564  Sub-Saharan Africa (excluding high income)  Lower middle income  \n",
       "13565  Sub-Saharan Africa (excluding high income)  Lower middle income  "
      ]
     },
     "execution_count": 5,
     "metadata": {},
     "output_type": "execute_result"
    }
   ],
   "source": [
    "dataset.tail() # This command is used to display the last 5 rows of the dataset."
   ]
  },
  {
   "cell_type": "code",
   "execution_count": 6,
   "metadata": {},
   "outputs": [
    {
     "data": {
      "text/plain": [
       "(13566, 9)"
      ]
     },
     "execution_count": 6,
     "metadata": {},
     "output_type": "execute_result"
    }
   ],
   "source": [
    "dataset.shape # This command is used to display the number of rows and columns in the dataset."
   ]
  },
  {
   "cell_type": "code",
   "execution_count": 7,
   "metadata": {},
   "outputs": [
    {
     "data": {
      "text/plain": [
       "Index(['country', 'iso3c', 'iso2c', 'year',\n",
       "       'Military expenditure (current USD)',\n",
       "       'Military expenditure (% of general government expenditure)',\n",
       "       'Military expenditure (% of GDP)', 'adminregion', 'incomeLevel'],\n",
       "      dtype='object')"
      ]
     },
     "execution_count": 7,
     "metadata": {},
     "output_type": "execute_result"
    }
   ],
   "source": [
    "dataset.columns # This command is used to display the names of the columns in the dataset."
   ]
  },
  {
   "cell_type": "code",
   "execution_count": 8,
   "metadata": {},
   "outputs": [
    {
     "data": {
      "text/plain": [
       "country                                                        object\n",
       "iso3c                                                          object\n",
       "iso2c                                                          object\n",
       "year                                                            int64\n",
       "Military expenditure (current USD)                            float64\n",
       "Military expenditure (% of general government expenditure)    float64\n",
       "Military expenditure (% of GDP)                               float64\n",
       "adminregion                                                    object\n",
       "incomeLevel                                                    object\n",
       "dtype: object"
      ]
     },
     "execution_count": 8,
     "metadata": {},
     "output_type": "execute_result"
    }
   ],
   "source": [
    "dataset.dtypes # This command is used to display the data types of the columns in the dataset."
   ]
  },
  {
   "cell_type": "code",
   "execution_count": 9,
   "metadata": {},
   "outputs": [
    {
     "data": {
      "text/plain": [
       "array(['Afghanistan', 'Africa Eastern and Southern',\n",
       "       'Africa Western and Central', 'Albania', 'Algeria',\n",
       "       'American Samoa', 'Andorra', 'Angola', 'Antigua and Barbuda',\n",
       "       'Arab World', 'Argentina', 'Armenia', 'Aruba', 'Australia',\n",
       "       'Austria', 'Azerbaijan', 'Bahamas, The', 'Bahrain', 'Bangladesh',\n",
       "       'Barbados', 'Belarus', 'Belgium', 'Belize', 'Benin', 'Bermuda',\n",
       "       'Bhutan', 'Bolivia', 'Bosnia and Herzegovina', 'Botswana',\n",
       "       'Brazil', 'British Virgin Islands', 'Brunei Darussalam',\n",
       "       'Bulgaria', 'Burkina Faso', 'Burundi', 'Cabo Verde', 'Cambodia',\n",
       "       'Cameroon', 'Canada', 'Caribbean small states', 'Cayman Islands',\n",
       "       'Central African Republic', 'Central Europe and the Baltics',\n",
       "       'Chad', 'Channel Islands', 'Chile', 'China', 'Colombia', 'Comoros',\n",
       "       'Congo, Dem. Rep.', 'Congo, Rep.', 'Costa Rica', \"Cote d'Ivoire\",\n",
       "       'Croatia', 'Cuba', 'Curacao', 'Cyprus', 'Czech Republic',\n",
       "       'Denmark', 'Djibouti', 'Dominica', 'Dominican Republic',\n",
       "       'Early-demographic dividend', 'East Asia & Pacific',\n",
       "       'East Asia & Pacific (IDA & IBRD countries)',\n",
       "       'East Asia & Pacific (excluding high income)', 'Ecuador',\n",
       "       'Egypt, Arab Rep.', 'El Salvador', 'Equatorial Guinea', 'Eritrea',\n",
       "       'Estonia', 'Eswatini', 'Ethiopia', 'Euro area',\n",
       "       'Europe & Central Asia',\n",
       "       'Europe & Central Asia (IDA & IBRD countries)',\n",
       "       'Europe & Central Asia (excluding high income)', 'European Union',\n",
       "       'Faroe Islands', 'Fiji', 'Finland',\n",
       "       'Fragile and conflict affected situations', 'France',\n",
       "       'French Polynesia', 'Gabon', 'Gambia, The', 'Georgia', 'Germany',\n",
       "       'Ghana', 'Gibraltar', 'Greece', 'Greenland', 'Grenada', 'Guam',\n",
       "       'Guatemala', 'Guinea', 'Guinea-Bissau', 'Guyana', 'Haiti',\n",
       "       'Heavily indebted poor countries (HIPC)', 'High income',\n",
       "       'Honduras', 'Hong Kong SAR, China', 'Hungary', 'IBRD only',\n",
       "       'IDA & IBRD total', 'IDA blend', 'IDA only', 'IDA total',\n",
       "       'Iceland', 'India', 'Indonesia', 'Iran, Islamic Rep.', 'Iraq',\n",
       "       'Ireland', 'Isle of Man', 'Israel', 'Italy', 'Jamaica', 'Japan',\n",
       "       'Jordan', 'Kazakhstan', 'Kenya', 'Kiribati',\n",
       "       \"Korea, Dem. People's Rep.\", 'Korea, Rep.', 'Kosovo', 'Kuwait',\n",
       "       'Kyrgyz Republic', 'Lao PDR', 'Late-demographic dividend',\n",
       "       'Latin America & Caribbean',\n",
       "       'Latin America & Caribbean (excluding high income)',\n",
       "       'Latin America & the Caribbean (IDA & IBRD countries)', 'Latvia',\n",
       "       'Least developed countries: UN classification', 'Lebanon',\n",
       "       'Lesotho', 'Liberia', 'Libya', 'Liechtenstein', 'Lithuania',\n",
       "       'Low & middle income', 'Low income', 'Lower middle income',\n",
       "       'Luxembourg', 'Macao SAR, China', 'Madagascar', 'Malawi',\n",
       "       'Malaysia', 'Maldives', 'Mali', 'Malta', 'Marshall Islands',\n",
       "       'Mauritania', 'Mauritius', 'Mexico', 'Micronesia, Fed. Sts.',\n",
       "       'Middle East & North Africa',\n",
       "       'Middle East & North Africa (IDA & IBRD countries)',\n",
       "       'Middle East & North Africa (excluding high income)',\n",
       "       'Middle income', 'Moldova', 'Monaco', 'Mongolia', 'Montenegro',\n",
       "       'Morocco', 'Mozambique', 'Myanmar', 'Namibia', 'Nauru', 'Nepal',\n",
       "       'Netherlands', 'New Caledonia', 'New Zealand', 'Nicaragua',\n",
       "       'Niger', 'Nigeria', 'North America', 'North Macedonia',\n",
       "       'Northern Mariana Islands', 'Norway', 'Not classified',\n",
       "       'OECD members', 'Oman', 'Other small states',\n",
       "       'Pacific island small states', 'Pakistan', 'Palau', 'Panama',\n",
       "       'Papua New Guinea', 'Paraguay', 'Peru', 'Philippines', 'Poland',\n",
       "       'Portugal', 'Post-demographic dividend',\n",
       "       'Pre-demographic dividend', 'Puerto Rico', 'Qatar', 'Romania',\n",
       "       'Russian Federation', 'Rwanda', 'Samoa', 'San Marino',\n",
       "       'Sao Tome and Principe', 'Saudi Arabia', 'Senegal', 'Serbia',\n",
       "       'Seychelles', 'Sierra Leone', 'Singapore',\n",
       "       'Sint Maarten (Dutch part)', 'Slovak Republic', 'Slovenia',\n",
       "       'Small states', 'Solomon Islands', 'Somalia', 'South Africa',\n",
       "       'South Asia', 'South Asia (IDA & IBRD)', 'South Sudan', 'Spain',\n",
       "       'Sri Lanka', 'St. Kitts and Nevis', 'St. Lucia',\n",
       "       'St. Martin (French part)', 'St. Vincent and the Grenadines',\n",
       "       'Sub-Saharan Africa', 'Sub-Saharan Africa (IDA & IBRD countries)',\n",
       "       'Sub-Saharan Africa (excluding high income)', 'Sudan', 'Suriname',\n",
       "       'Sweden', 'Switzerland', 'Syrian Arab Republic', 'Tajikistan',\n",
       "       'Tanzania', 'Thailand', 'Timor-Leste', 'Togo', 'Tonga',\n",
       "       'Trinidad and Tobago', 'Tunisia', 'Turkey', 'Turkmenistan',\n",
       "       'Turks and Caicos Islands', 'Tuvalu', 'Uganda', 'Ukraine',\n",
       "       'United Arab Emirates', 'United Kingdom', 'United States',\n",
       "       'Upper middle income', 'Uruguay', 'Uzbekistan', 'Vanuatu',\n",
       "       'Venezuela, RB', 'Vietnam', 'Virgin Islands (U.S.)',\n",
       "       'West Bank and Gaza', 'World', 'Yemen, Rep.', 'Zambia', 'Zimbabwe'],\n",
       "      dtype=object)"
      ]
     },
     "execution_count": 9,
     "metadata": {},
     "output_type": "execute_result"
    }
   ],
   "source": [
    "dataset[\"country\"].unique() # This command is used to display the unique values in the \"country_name\" column."
   ]
  },
  {
   "cell_type": "code",
   "execution_count": 10,
   "metadata": {},
   "outputs": [
    {
     "data": {
      "text/plain": [
       "country                                                        266\n",
       "iso3c                                                          264\n",
       "iso2c                                                          263\n",
       "year                                                            51\n",
       "Military expenditure (current USD)                            8407\n",
       "Military expenditure (% of general government expenditure)    5041\n",
       "Military expenditure (% of GDP)                               8428\n",
       "adminregion                                                      6\n",
       "incomeLevel                                                      6\n",
       "dtype: int64"
      ]
     },
     "execution_count": 10,
     "metadata": {},
     "output_type": "execute_result"
    }
   ],
   "source": [
    "dataset.nunique() # This command is used to display the number of unique values in each column of the dataset."
   ]
  },
  {
   "cell_type": "code",
   "execution_count": 11,
   "metadata": {},
   "outputs": [
    {
     "data": {
      "application/vnd.microsoft.datawrangler.viewer.v0+json": {
       "columns": [
        {
         "name": "index",
         "rawType": "object",
         "type": "string"
        },
        {
         "name": "year",
         "rawType": "float64",
         "type": "float"
        },
        {
         "name": "Military expenditure (current USD)",
         "rawType": "float64",
         "type": "float"
        },
        {
         "name": "Military expenditure (% of general government expenditure)",
         "rawType": "float64",
         "type": "float"
        },
        {
         "name": "Military expenditure (% of GDP)",
         "rawType": "float64",
         "type": "float"
        }
       ],
       "conversionMethod": "pd.DataFrame",
       "ref": "2b1894f0-3189-419e-a6c3-f5e33a207f41",
       "rows": [
        [
         "count",
         "13566.0",
         "8769.0",
         "5282.0",
         "8777.0"
        ],
        [
         "mean",
         "1995.0",
         "36760653638.93792",
         "7.658513985211701",
         "2.722603135423922"
        ],
        [
         "std",
         "14.720143991987921",
         "142258690662.33493",
         "6.048938120444632",
         "2.9218690034242485"
        ],
        [
         "min",
         "1970.0",
         "0.0",
         "0.0",
         "0.0"
        ],
        [
         "25%",
         "1982.0",
         "120000000.0",
         "3.66561440369899",
         "1.32720742978137"
        ],
        [
         "50%",
         "1995.0",
         "1148445710.41342",
         "6.0336752054531",
         "2.01300457304406"
        ],
        [
         "75%",
         "2008.0",
         "8533090258.10319",
         "9.9962494537413",
         "3.21826066522826"
        ],
        [
         "max",
         "2020.0",
         "1928852478357.6",
         "57.4780976220275",
         "117.34982320869"
        ]
       ],
       "shape": {
        "columns": 4,
        "rows": 8
       }
      },
      "text/html": [
       "<div>\n",
       "<style scoped>\n",
       "    .dataframe tbody tr th:only-of-type {\n",
       "        vertical-align: middle;\n",
       "    }\n",
       "\n",
       "    .dataframe tbody tr th {\n",
       "        vertical-align: top;\n",
       "    }\n",
       "\n",
       "    .dataframe thead th {\n",
       "        text-align: right;\n",
       "    }\n",
       "</style>\n",
       "<table border=\"1\" class=\"dataframe\">\n",
       "  <thead>\n",
       "    <tr style=\"text-align: right;\">\n",
       "      <th></th>\n",
       "      <th>year</th>\n",
       "      <th>Military expenditure (current USD)</th>\n",
       "      <th>Military expenditure (% of general government expenditure)</th>\n",
       "      <th>Military expenditure (% of GDP)</th>\n",
       "    </tr>\n",
       "  </thead>\n",
       "  <tbody>\n",
       "    <tr>\n",
       "      <th>count</th>\n",
       "      <td>13566.000000</td>\n",
       "      <td>8.769000e+03</td>\n",
       "      <td>5282.000000</td>\n",
       "      <td>8777.000000</td>\n",
       "    </tr>\n",
       "    <tr>\n",
       "      <th>mean</th>\n",
       "      <td>1995.000000</td>\n",
       "      <td>3.676065e+10</td>\n",
       "      <td>7.658514</td>\n",
       "      <td>2.722603</td>\n",
       "    </tr>\n",
       "    <tr>\n",
       "      <th>std</th>\n",
       "      <td>14.720144</td>\n",
       "      <td>1.422587e+11</td>\n",
       "      <td>6.048938</td>\n",
       "      <td>2.921869</td>\n",
       "    </tr>\n",
       "    <tr>\n",
       "      <th>min</th>\n",
       "      <td>1970.000000</td>\n",
       "      <td>0.000000e+00</td>\n",
       "      <td>0.000000</td>\n",
       "      <td>0.000000</td>\n",
       "    </tr>\n",
       "    <tr>\n",
       "      <th>25%</th>\n",
       "      <td>1982.000000</td>\n",
       "      <td>1.200000e+08</td>\n",
       "      <td>3.665614</td>\n",
       "      <td>1.327207</td>\n",
       "    </tr>\n",
       "    <tr>\n",
       "      <th>50%</th>\n",
       "      <td>1995.000000</td>\n",
       "      <td>1.148446e+09</td>\n",
       "      <td>6.033675</td>\n",
       "      <td>2.013005</td>\n",
       "    </tr>\n",
       "    <tr>\n",
       "      <th>75%</th>\n",
       "      <td>2008.000000</td>\n",
       "      <td>8.533090e+09</td>\n",
       "      <td>9.996249</td>\n",
       "      <td>3.218261</td>\n",
       "    </tr>\n",
       "    <tr>\n",
       "      <th>max</th>\n",
       "      <td>2020.000000</td>\n",
       "      <td>1.928852e+12</td>\n",
       "      <td>57.478098</td>\n",
       "      <td>117.349823</td>\n",
       "    </tr>\n",
       "  </tbody>\n",
       "</table>\n",
       "</div>"
      ],
      "text/plain": [
       "               year  Military expenditure (current USD)  \\\n",
       "count  13566.000000                        8.769000e+03   \n",
       "mean    1995.000000                        3.676065e+10   \n",
       "std       14.720144                        1.422587e+11   \n",
       "min     1970.000000                        0.000000e+00   \n",
       "25%     1982.000000                        1.200000e+08   \n",
       "50%     1995.000000                        1.148446e+09   \n",
       "75%     2008.000000                        8.533090e+09   \n",
       "max     2020.000000                        1.928852e+12   \n",
       "\n",
       "       Military expenditure (% of general government expenditure)  \\\n",
       "count                                        5282.000000            \n",
       "mean                                            7.658514            \n",
       "std                                             6.048938            \n",
       "min                                             0.000000            \n",
       "25%                                             3.665614            \n",
       "50%                                             6.033675            \n",
       "75%                                             9.996249            \n",
       "max                                            57.478098            \n",
       "\n",
       "       Military expenditure (% of GDP)  \n",
       "count                      8777.000000  \n",
       "mean                          2.722603  \n",
       "std                           2.921869  \n",
       "min                           0.000000  \n",
       "25%                           1.327207  \n",
       "50%                           2.013005  \n",
       "75%                           3.218261  \n",
       "max                         117.349823  "
      ]
     },
     "execution_count": 11,
     "metadata": {},
     "output_type": "execute_result"
    }
   ],
   "source": [
    "dataset.describe() # This command is used to display the summary statistics of the dataset."
   ]
  },
  {
   "cell_type": "code",
   "execution_count": 12,
   "metadata": {},
   "outputs": [
    {
     "data": {
      "text/plain": [
       "country      iso3c  iso2c  year  Military expenditure (current USD)  Military expenditure (% of general government expenditure)  Military expenditure (% of GDP)  adminregion                                         incomeLevel        \n",
       "Afghanistan  AFG    AF     2004  1.251116e+08                        16.134336                                                   2.431258                         South Asia                                          Low income             1\n",
       "Morocco      MAR    MA     2013  4.065552e+09                        11.556215                                                   3.805783                         Middle East & North Africa (excluding high income)  Lower middle income    1\n",
       "                           2005  2.031131e+09                        10.512856                                                   3.257997                         Middle East & North Africa (excluding high income)  Lower middle income    1\n",
       "                           2006  2.134595e+09                        11.060904                                                   3.109796                         Middle East & North Africa (excluding high income)  Lower middle income    1\n",
       "                           2007  2.408350e+09                        10.652542                                                   3.046954                         Middle East & North Africa (excluding high income)  Lower middle income    1\n",
       "                                                                                                                                                                                                                                            ..\n",
       "Ethiopia     ETH    ET     2001  3.498083e+08                        19.233520                                                   4.349021                         Sub-Saharan Africa (excluding high income)          Low income             1\n",
       "                           2002  2.889323e+08                        14.842017                                                   3.719388                         Sub-Saharan Africa (excluding high income)          Low income             1\n",
       "                           2003  2.786732e+08                        11.977110                                                   3.238843                         Sub-Saharan Africa (excluding high income)          Low income             1\n",
       "                           2004  3.110387e+08                        13.273374                                                   3.072650                         Sub-Saharan Africa (excluding high income)          Low income             1\n",
       "Zimbabwe     ZWE    ZW     2019  5.469390e+08                        2.099816                                                    0.698601                         Sub-Saharan Africa (excluding high income)          Lower middle income    1\n",
       "Name: count, Length: 2724, dtype: int64"
      ]
     },
     "execution_count": 12,
     "metadata": {},
     "output_type": "execute_result"
    }
   ],
   "source": [
    "dataset.value_counts() # This command is used to display the frequency of each unique value in the dataset."
   ]
  },
  {
   "cell_type": "code",
   "execution_count": 13,
   "metadata": {},
   "outputs": [
    {
     "data": {
      "application/vnd.microsoft.datawrangler.viewer.v0+json": {
       "columns": [
        {
         "name": "index",
         "rawType": "int64",
         "type": "integer"
        },
        {
         "name": "country",
         "rawType": "bool",
         "type": "boolean"
        },
        {
         "name": "iso3c",
         "rawType": "bool",
         "type": "boolean"
        },
        {
         "name": "iso2c",
         "rawType": "bool",
         "type": "boolean"
        },
        {
         "name": "year",
         "rawType": "bool",
         "type": "boolean"
        },
        {
         "name": "Military expenditure (current USD)",
         "rawType": "bool",
         "type": "boolean"
        },
        {
         "name": "Military expenditure (% of general government expenditure)",
         "rawType": "bool",
         "type": "boolean"
        },
        {
         "name": "Military expenditure (% of GDP)",
         "rawType": "bool",
         "type": "boolean"
        },
        {
         "name": "adminregion",
         "rawType": "bool",
         "type": "boolean"
        },
        {
         "name": "incomeLevel",
         "rawType": "bool",
         "type": "boolean"
        }
       ],
       "conversionMethod": "pd.DataFrame",
       "ref": "89c8ab0a-5a3e-4f0e-9c3d-f58dbbe96be8",
       "rows": [
        [
         "0",
         "False",
         "False",
         "False",
         "False",
         "False",
         "True",
         "False",
         "False",
         "False"
        ],
        [
         "1",
         "False",
         "False",
         "False",
         "False",
         "True",
         "True",
         "True",
         "False",
         "False"
        ],
        [
         "2",
         "False",
         "False",
         "False",
         "False",
         "True",
         "True",
         "True",
         "False",
         "False"
        ],
        [
         "3",
         "False",
         "False",
         "False",
         "False",
         "False",
         "True",
         "False",
         "False",
         "False"
        ],
        [
         "4",
         "False",
         "False",
         "False",
         "False",
         "False",
         "True",
         "False",
         "False",
         "False"
        ],
        [
         "5",
         "False",
         "False",
         "False",
         "False",
         "False",
         "True",
         "False",
         "False",
         "False"
        ],
        [
         "6",
         "False",
         "False",
         "False",
         "False",
         "False",
         "True",
         "False",
         "False",
         "False"
        ],
        [
         "7",
         "False",
         "False",
         "False",
         "False",
         "False",
         "True",
         "False",
         "False",
         "False"
        ],
        [
         "8",
         "False",
         "False",
         "False",
         "False",
         "True",
         "True",
         "True",
         "False",
         "False"
        ],
        [
         "9",
         "False",
         "False",
         "False",
         "False",
         "True",
         "True",
         "True",
         "False",
         "False"
        ],
        [
         "10",
         "False",
         "False",
         "False",
         "False",
         "True",
         "True",
         "True",
         "False",
         "False"
        ],
        [
         "11",
         "False",
         "False",
         "False",
         "False",
         "True",
         "True",
         "True",
         "False",
         "False"
        ],
        [
         "12",
         "False",
         "False",
         "False",
         "False",
         "True",
         "True",
         "True",
         "False",
         "False"
        ],
        [
         "13",
         "False",
         "False",
         "False",
         "False",
         "True",
         "True",
         "True",
         "False",
         "False"
        ],
        [
         "14",
         "False",
         "False",
         "False",
         "False",
         "True",
         "True",
         "True",
         "False",
         "False"
        ],
        [
         "15",
         "False",
         "False",
         "False",
         "False",
         "True",
         "True",
         "True",
         "False",
         "False"
        ],
        [
         "16",
         "False",
         "False",
         "False",
         "False",
         "True",
         "True",
         "True",
         "False",
         "False"
        ],
        [
         "17",
         "False",
         "False",
         "False",
         "False",
         "True",
         "True",
         "True",
         "False",
         "False"
        ],
        [
         "18",
         "False",
         "False",
         "False",
         "False",
         "True",
         "True",
         "True",
         "False",
         "False"
        ],
        [
         "19",
         "False",
         "False",
         "False",
         "False",
         "True",
         "True",
         "True",
         "False",
         "False"
        ],
        [
         "20",
         "False",
         "False",
         "False",
         "False",
         "True",
         "True",
         "True",
         "False",
         "False"
        ],
        [
         "21",
         "False",
         "False",
         "False",
         "False",
         "True",
         "True",
         "True",
         "False",
         "False"
        ],
        [
         "22",
         "False",
         "False",
         "False",
         "False",
         "True",
         "True",
         "True",
         "False",
         "False"
        ],
        [
         "23",
         "False",
         "False",
         "False",
         "False",
         "True",
         "True",
         "True",
         "False",
         "False"
        ],
        [
         "24",
         "False",
         "False",
         "False",
         "False",
         "True",
         "True",
         "True",
         "False",
         "False"
        ],
        [
         "25",
         "False",
         "False",
         "False",
         "False",
         "True",
         "True",
         "True",
         "False",
         "False"
        ],
        [
         "26",
         "False",
         "False",
         "False",
         "False",
         "True",
         "True",
         "True",
         "False",
         "False"
        ],
        [
         "27",
         "False",
         "False",
         "False",
         "False",
         "True",
         "True",
         "True",
         "False",
         "False"
        ],
        [
         "28",
         "False",
         "False",
         "False",
         "False",
         "True",
         "True",
         "True",
         "False",
         "False"
        ],
        [
         "29",
         "False",
         "False",
         "False",
         "False",
         "True",
         "True",
         "True",
         "False",
         "False"
        ],
        [
         "30",
         "False",
         "False",
         "False",
         "False",
         "True",
         "True",
         "True",
         "False",
         "False"
        ],
        [
         "31",
         "False",
         "False",
         "False",
         "False",
         "True",
         "True",
         "True",
         "False",
         "False"
        ],
        [
         "32",
         "False",
         "False",
         "False",
         "False",
         "True",
         "True",
         "True",
         "False",
         "False"
        ],
        [
         "33",
         "False",
         "False",
         "False",
         "False",
         "True",
         "True",
         "True",
         "False",
         "False"
        ],
        [
         "34",
         "False",
         "False",
         "False",
         "False",
         "False",
         "False",
         "False",
         "False",
         "False"
        ],
        [
         "35",
         "False",
         "False",
         "False",
         "False",
         "False",
         "False",
         "False",
         "False",
         "False"
        ],
        [
         "36",
         "False",
         "False",
         "False",
         "False",
         "False",
         "False",
         "False",
         "False",
         "False"
        ],
        [
         "37",
         "False",
         "False",
         "False",
         "False",
         "False",
         "False",
         "False",
         "False",
         "False"
        ],
        [
         "38",
         "False",
         "False",
         "False",
         "False",
         "False",
         "False",
         "False",
         "False",
         "False"
        ],
        [
         "39",
         "False",
         "False",
         "False",
         "False",
         "False",
         "False",
         "False",
         "False",
         "False"
        ],
        [
         "40",
         "False",
         "False",
         "False",
         "False",
         "False",
         "False",
         "False",
         "False",
         "False"
        ],
        [
         "41",
         "False",
         "False",
         "False",
         "False",
         "False",
         "False",
         "False",
         "False",
         "False"
        ],
        [
         "42",
         "False",
         "False",
         "False",
         "False",
         "False",
         "False",
         "False",
         "False",
         "False"
        ],
        [
         "43",
         "False",
         "False",
         "False",
         "False",
         "False",
         "False",
         "False",
         "False",
         "False"
        ],
        [
         "44",
         "False",
         "False",
         "False",
         "False",
         "False",
         "False",
         "False",
         "False",
         "False"
        ],
        [
         "45",
         "False",
         "False",
         "False",
         "False",
         "False",
         "False",
         "False",
         "False",
         "False"
        ],
        [
         "46",
         "False",
         "False",
         "False",
         "False",
         "False",
         "False",
         "False",
         "False",
         "False"
        ],
        [
         "47",
         "False",
         "False",
         "False",
         "False",
         "False",
         "False",
         "False",
         "False",
         "False"
        ],
        [
         "48",
         "False",
         "False",
         "False",
         "False",
         "False",
         "False",
         "False",
         "False",
         "False"
        ],
        [
         "49",
         "False",
         "False",
         "False",
         "False",
         "False",
         "False",
         "False",
         "False",
         "False"
        ]
       ],
       "shape": {
        "columns": 9,
        "rows": 13566
       }
      },
      "text/html": [
       "<div>\n",
       "<style scoped>\n",
       "    .dataframe tbody tr th:only-of-type {\n",
       "        vertical-align: middle;\n",
       "    }\n",
       "\n",
       "    .dataframe tbody tr th {\n",
       "        vertical-align: top;\n",
       "    }\n",
       "\n",
       "    .dataframe thead th {\n",
       "        text-align: right;\n",
       "    }\n",
       "</style>\n",
       "<table border=\"1\" class=\"dataframe\">\n",
       "  <thead>\n",
       "    <tr style=\"text-align: right;\">\n",
       "      <th></th>\n",
       "      <th>country</th>\n",
       "      <th>iso3c</th>\n",
       "      <th>iso2c</th>\n",
       "      <th>year</th>\n",
       "      <th>Military expenditure (current USD)</th>\n",
       "      <th>Military expenditure (% of general government expenditure)</th>\n",
       "      <th>Military expenditure (% of GDP)</th>\n",
       "      <th>adminregion</th>\n",
       "      <th>incomeLevel</th>\n",
       "    </tr>\n",
       "  </thead>\n",
       "  <tbody>\n",
       "    <tr>\n",
       "      <th>0</th>\n",
       "      <td>False</td>\n",
       "      <td>False</td>\n",
       "      <td>False</td>\n",
       "      <td>False</td>\n",
       "      <td>False</td>\n",
       "      <td>True</td>\n",
       "      <td>False</td>\n",
       "      <td>False</td>\n",
       "      <td>False</td>\n",
       "    </tr>\n",
       "    <tr>\n",
       "      <th>1</th>\n",
       "      <td>False</td>\n",
       "      <td>False</td>\n",
       "      <td>False</td>\n",
       "      <td>False</td>\n",
       "      <td>True</td>\n",
       "      <td>True</td>\n",
       "      <td>True</td>\n",
       "      <td>False</td>\n",
       "      <td>False</td>\n",
       "    </tr>\n",
       "    <tr>\n",
       "      <th>2</th>\n",
       "      <td>False</td>\n",
       "      <td>False</td>\n",
       "      <td>False</td>\n",
       "      <td>False</td>\n",
       "      <td>True</td>\n",
       "      <td>True</td>\n",
       "      <td>True</td>\n",
       "      <td>False</td>\n",
       "      <td>False</td>\n",
       "    </tr>\n",
       "    <tr>\n",
       "      <th>3</th>\n",
       "      <td>False</td>\n",
       "      <td>False</td>\n",
       "      <td>False</td>\n",
       "      <td>False</td>\n",
       "      <td>False</td>\n",
       "      <td>True</td>\n",
       "      <td>False</td>\n",
       "      <td>False</td>\n",
       "      <td>False</td>\n",
       "    </tr>\n",
       "    <tr>\n",
       "      <th>4</th>\n",
       "      <td>False</td>\n",
       "      <td>False</td>\n",
       "      <td>False</td>\n",
       "      <td>False</td>\n",
       "      <td>False</td>\n",
       "      <td>True</td>\n",
       "      <td>False</td>\n",
       "      <td>False</td>\n",
       "      <td>False</td>\n",
       "    </tr>\n",
       "    <tr>\n",
       "      <th>...</th>\n",
       "      <td>...</td>\n",
       "      <td>...</td>\n",
       "      <td>...</td>\n",
       "      <td>...</td>\n",
       "      <td>...</td>\n",
       "      <td>...</td>\n",
       "      <td>...</td>\n",
       "      <td>...</td>\n",
       "      <td>...</td>\n",
       "    </tr>\n",
       "    <tr>\n",
       "      <th>13561</th>\n",
       "      <td>False</td>\n",
       "      <td>False</td>\n",
       "      <td>False</td>\n",
       "      <td>False</td>\n",
       "      <td>False</td>\n",
       "      <td>False</td>\n",
       "      <td>False</td>\n",
       "      <td>False</td>\n",
       "      <td>False</td>\n",
       "    </tr>\n",
       "    <tr>\n",
       "      <th>13562</th>\n",
       "      <td>False</td>\n",
       "      <td>False</td>\n",
       "      <td>False</td>\n",
       "      <td>False</td>\n",
       "      <td>False</td>\n",
       "      <td>False</td>\n",
       "      <td>False</td>\n",
       "      <td>False</td>\n",
       "      <td>False</td>\n",
       "    </tr>\n",
       "    <tr>\n",
       "      <th>13563</th>\n",
       "      <td>False</td>\n",
       "      <td>False</td>\n",
       "      <td>False</td>\n",
       "      <td>False</td>\n",
       "      <td>False</td>\n",
       "      <td>False</td>\n",
       "      <td>False</td>\n",
       "      <td>False</td>\n",
       "      <td>False</td>\n",
       "    </tr>\n",
       "    <tr>\n",
       "      <th>13564</th>\n",
       "      <td>False</td>\n",
       "      <td>False</td>\n",
       "      <td>False</td>\n",
       "      <td>False</td>\n",
       "      <td>False</td>\n",
       "      <td>False</td>\n",
       "      <td>False</td>\n",
       "      <td>False</td>\n",
       "      <td>False</td>\n",
       "    </tr>\n",
       "    <tr>\n",
       "      <th>13565</th>\n",
       "      <td>False</td>\n",
       "      <td>False</td>\n",
       "      <td>False</td>\n",
       "      <td>False</td>\n",
       "      <td>True</td>\n",
       "      <td>True</td>\n",
       "      <td>True</td>\n",
       "      <td>False</td>\n",
       "      <td>False</td>\n",
       "    </tr>\n",
       "  </tbody>\n",
       "</table>\n",
       "<p>13566 rows × 9 columns</p>\n",
       "</div>"
      ],
      "text/plain": [
       "       country  iso3c  iso2c   year  Military expenditure (current USD)  \\\n",
       "0        False  False  False  False                               False   \n",
       "1        False  False  False  False                                True   \n",
       "2        False  False  False  False                                True   \n",
       "3        False  False  False  False                               False   \n",
       "4        False  False  False  False                               False   \n",
       "...        ...    ...    ...    ...                                 ...   \n",
       "13561    False  False  False  False                               False   \n",
       "13562    False  False  False  False                               False   \n",
       "13563    False  False  False  False                               False   \n",
       "13564    False  False  False  False                               False   \n",
       "13565    False  False  False  False                                True   \n",
       "\n",
       "       Military expenditure (% of general government expenditure)  \\\n",
       "0                                                   True            \n",
       "1                                                   True            \n",
       "2                                                   True            \n",
       "3                                                   True            \n",
       "4                                                   True            \n",
       "...                                                  ...            \n",
       "13561                                              False            \n",
       "13562                                              False            \n",
       "13563                                              False            \n",
       "13564                                              False            \n",
       "13565                                               True            \n",
       "\n",
       "       Military expenditure (% of GDP)  adminregion  incomeLevel  \n",
       "0                                False        False        False  \n",
       "1                                 True        False        False  \n",
       "2                                 True        False        False  \n",
       "3                                False        False        False  \n",
       "4                                False        False        False  \n",
       "...                                ...          ...          ...  \n",
       "13561                            False        False        False  \n",
       "13562                            False        False        False  \n",
       "13563                            False        False        False  \n",
       "13564                            False        False        False  \n",
       "13565                             True        False        False  \n",
       "\n",
       "[13566 rows x 9 columns]"
      ]
     },
     "execution_count": 13,
     "metadata": {},
     "output_type": "execute_result"
    }
   ],
   "source": [
    "dataset.isnull() # This command is used to check for missing values in the dataset."
   ]
  },
  {
   "cell_type": "code",
   "execution_count": 14,
   "metadata": {},
   "outputs": [
    {
     "name": "stdout",
     "output_type": "stream",
     "text": [
      "<class 'pandas.core.frame.DataFrame'>\n",
      "RangeIndex: 13566 entries, 0 to 13565\n",
      "Data columns (total 9 columns):\n",
      " #   Column                                                      Non-Null Count  Dtype  \n",
      "---  ------                                                      --------------  -----  \n",
      " 0   country                                                     13566 non-null  object \n",
      " 1   iso3c                                                       13464 non-null  object \n",
      " 2   iso2c                                                       13413 non-null  object \n",
      " 3   year                                                        13566 non-null  int64  \n",
      " 4   Military expenditure (current USD)                          8769 non-null   float64\n",
      " 5   Military expenditure (% of general government expenditure)  5282 non-null   float64\n",
      " 6   Military expenditure (% of GDP)                             8777 non-null   float64\n",
      " 7   adminregion                                                 6987 non-null   object \n",
      " 8   incomeLevel                                                 13464 non-null  object \n",
      "dtypes: float64(3), int64(1), object(5)\n",
      "memory usage: 954.0+ KB\n"
     ]
    }
   ],
   "source": [
    "dataset.info() # This command is used to display the information about the dataset."
   ]
  },
  {
   "cell_type": "markdown",
   "metadata": {},
   "source": [
    "## Filtering the dataset for few example countries."
   ]
  },
  {
   "cell_type": "code",
   "execution_count": 15,
   "metadata": {},
   "outputs": [],
   "source": [
    "countries=[\"United States\",\"China\",\"United Kingdom\",\"India\",\"France\"]\n",
    "filtered_data=dataset[dataset[\"country\"].isin(countries)]"
   ]
  },
  {
   "cell_type": "markdown",
   "metadata": {},
   "source": [
    "## What are the historical trends in military expenditures for different countries?"
   ]
  },
  {
   "cell_type": "code",
   "execution_count": 16,
   "metadata": {},
   "outputs": [
    {
     "data": {
      "image/png": "[encoded data removed]",
      "text/plain": [
       "<Figure size 1000x500 with 1 Axes>"
      ]
     },
     "metadata": {},
     "output_type": "display_data"
    }
   ],
   "source": [
    "# Plotting the military expenditure of the top 5 countries in the world.\n",
    "plt.figure(figsize=(10,5))\n",
    "sns.lineplot(x=\"country\", y=\"Military expenditure (current USD)\", data=filtered_data)\n",
    "plt.title(\"Military Expenditure of the Top 5 Countries in the World\")\n",
    "plt.xlabel(\"Country\")\n",
    "plt.legend([\"Military Expenditure (Maximum 1 Million USD)\"])\n",
    "plt.show()"
   ]
  },
  {
   "cell_type": "markdown",
   "metadata": {},
   "source": [
    "## How does military spending vary across different regions and income levels?"
   ]
  },
  {
   "cell_type": "code",
   "execution_count": 19,
   "metadata": {},
   "outputs": [
    {
     "data": {
      "text/plain": [
       "<Axes: xlabel='adminregion', ylabel='Military expenditure (current USD)'>"
      ]
     },
     "execution_count": 19,
     "metadata": {},
     "output_type": "execute_result"
    },
    {
     "data": {
      "image/png": "[encoded data removed]",
      "text/plain": [
       "<Figure size 1000x500 with 1 Axes>"
      ]
     },
     "metadata": {},
     "output_type": "display_data"
    }
   ],
   "source": [
    "region_income_data=dataset.groupby([\"adminregion\",\"incomeLevel\"])[\"Military expenditure (current USD)\"].sum().reset_index()\n",
    "plt.figure(figsize=(10,5))\n",
    "sns.barplot(x=\"adminregion\", y=\"Military expenditure (current USD)\", hue=\"incomeLevel\", data=region_income_data)"
   ]
  },
  {
   "cell_type": "code",
   "execution_count": null,
   "metadata": {},
   "outputs": [],
   "source": []
  }
 ],
 "metadata": {
  "kernelspec": {
   "display_name": "Python 3",
   "language": "python",
   "name": "python3"
  },
  "language_info": {
   "codemirror_mode": {
    "name": "ipython",
    "version": 3
   },
   "file_extension": ".py",
   "mimetype": "text/x-python",
   "name": "python",
   "nbconvert_exporter": "python",
   "pygments_lexer": "ipython3",
   "version": "3.12.4"
  }
 },
 "nbformat": 4,
 "nbformat_minor": 2
}
